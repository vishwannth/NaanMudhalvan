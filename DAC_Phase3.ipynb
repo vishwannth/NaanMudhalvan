{
  "cells": [
    {
      "cell_type": "markdown",
      "metadata": {
        "_uuid": "c1f670affbee87ebb69bcb0b017965b39087cdb2",
        "id": "DlEHVo7iSmv-"
      },
      "source": [
        "### Objective:\n",
        "\n",
        "In this notebook,We have explored how people are travelling from different stops in Adelaide Metropolitan area and managing the buses on each route according to the no of passenger commuting through the buses."
      ]
    },
    {
      "cell_type": "code",
      "execution_count": null,
      "metadata": {
        "_uuid": "1f9d9bc7d9784b96cf4b38f9eeab3039a46cc444",
        "id": "beENA1qMSmwC"
      },
      "outputs": [],
      "source": [
        "%matplotlib inline\n",
        "import numpy as np # linear algebra\n",
        "import pandas as pd # data processing, CSV file I/O (e.g. pd.read_csv)\n",
        "import matplotlib.pyplot as plt\n",
        "import datetime\n",
        "import os\n",
        "from math import sqrt\n",
        "import warnings\n",
        "\n",
        "## For Multiple Output in single cell\n",
        "from IPython.core.interactiveshell import InteractiveShell\n",
        "InteractiveShell.ast_node_interactivity = \"all\"\n",
        "warnings.filterwarnings('ignore')"
      ]
    },
    {
      "cell_type": "code",
      "execution_count": null,
      "metadata": {
        "_uuid": "f8e3d98b9fb6957d901b9f7832758c8e1f2ebeaa",
        "id": "Abqm15XdSmwE",
        "outputId": "a3fe3310-f424-4361-d360-ec743bfdea02"
      },
      "outputs": [
        {
          "data": {
            "text/plain": [
              "(10857234, 6)"
            ]
          },
          "execution_count": 2,
          "metadata": {},
          "output_type": "execute_result"
        },
        {
          "data": {
            "text/html": [
              "<div>\n",
              "<style scoped>\n",
              "    .dataframe tbody tr th:only-of-type {\n",
              "        vertical-align: middle;\n",
              "    }\n",
              "\n",
              "    .dataframe tbody tr th {\n",
              "        vertical-align: top;\n",
              "    }\n",
              "\n",
              "    .dataframe thead th {\n",
              "        text-align: right;\n",
              "    }\n",
              "</style>\n",
              "<table border=\"1\" class=\"dataframe\">\n",
              "  <thead>\n",
              "    <tr style=\"text-align: right;\">\n",
              "      <th></th>\n",
              "      <th>TripID</th>\n",
              "      <th>RouteID</th>\n",
              "      <th>StopID</th>\n",
              "      <th>StopName</th>\n",
              "      <th>WeekBeginning</th>\n",
              "      <th>NumberOfBoardings</th>\n",
              "    </tr>\n",
              "  </thead>\n",
              "  <tbody>\n",
              "    <tr>\n",
              "      <th>0</th>\n",
              "      <td>23631</td>\n",
              "      <td>100</td>\n",
              "      <td>14156</td>\n",
              "      <td>181 Cross Rd</td>\n",
              "      <td>2013-06-30 00:00:00</td>\n",
              "      <td>1</td>\n",
              "    </tr>\n",
              "    <tr>\n",
              "      <th>1</th>\n",
              "      <td>23631</td>\n",
              "      <td>100</td>\n",
              "      <td>14144</td>\n",
              "      <td>177 Cross Rd</td>\n",
              "      <td>2013-06-30 00:00:00</td>\n",
              "      <td>1</td>\n",
              "    </tr>\n",
              "    <tr>\n",
              "      <th>2</th>\n",
              "      <td>23632</td>\n",
              "      <td>100</td>\n",
              "      <td>14132</td>\n",
              "      <td>175 Cross Rd</td>\n",
              "      <td>2013-06-30 00:00:00</td>\n",
              "      <td>1</td>\n",
              "    </tr>\n",
              "    <tr>\n",
              "      <th>3</th>\n",
              "      <td>23633</td>\n",
              "      <td>100</td>\n",
              "      <td>12266</td>\n",
              "      <td>Zone A Arndale Interchange</td>\n",
              "      <td>2013-06-30 00:00:00</td>\n",
              "      <td>2</td>\n",
              "    </tr>\n",
              "    <tr>\n",
              "      <th>4</th>\n",
              "      <td>23633</td>\n",
              "      <td>100</td>\n",
              "      <td>14147</td>\n",
              "      <td>178 Cross Rd</td>\n",
              "      <td>2013-06-30 00:00:00</td>\n",
              "      <td>1</td>\n",
              "    </tr>\n",
              "    <tr>\n",
              "      <th>5</th>\n",
              "      <td>23634</td>\n",
              "      <td>100</td>\n",
              "      <td>13907</td>\n",
              "      <td>9A  Marion Rd</td>\n",
              "      <td>2013-06-30 00:00:00</td>\n",
              "      <td>1</td>\n",
              "    </tr>\n",
              "    <tr>\n",
              "      <th>6</th>\n",
              "      <td>23634</td>\n",
              "      <td>100</td>\n",
              "      <td>14132</td>\n",
              "      <td>175 Cross Rd</td>\n",
              "      <td>2013-06-30 00:00:00</td>\n",
              "      <td>1</td>\n",
              "    </tr>\n",
              "    <tr>\n",
              "      <th>7</th>\n",
              "      <td>23634</td>\n",
              "      <td>100</td>\n",
              "      <td>13335</td>\n",
              "      <td>9A  Holbrooks Rd</td>\n",
              "      <td>2013-06-30 00:00:00</td>\n",
              "      <td>1</td>\n",
              "    </tr>\n",
              "    <tr>\n",
              "      <th>8</th>\n",
              "      <td>23634</td>\n",
              "      <td>100</td>\n",
              "      <td>13875</td>\n",
              "      <td>9  Marion Rd</td>\n",
              "      <td>2013-06-30 00:00:00</td>\n",
              "      <td>1</td>\n",
              "    </tr>\n",
              "    <tr>\n",
              "      <th>9</th>\n",
              "      <td>23634</td>\n",
              "      <td>100</td>\n",
              "      <td>13045</td>\n",
              "      <td>206 Holbrooks Rd</td>\n",
              "      <td>2013-06-30 00:00:00</td>\n",
              "      <td>1</td>\n",
              "    </tr>\n",
              "  </tbody>\n",
              "</table>\n",
              "</div>"
            ],
            "text/plain": [
              "   TripID RouteID        ...               WeekBeginning NumberOfBoardings\n",
              "0   23631     100        ...         2013-06-30 00:00:00                 1\n",
              "1   23631     100        ...         2013-06-30 00:00:00                 1\n",
              "2   23632     100        ...         2013-06-30 00:00:00                 1\n",
              "3   23633     100        ...         2013-06-30 00:00:00                 2\n",
              "4   23633     100        ...         2013-06-30 00:00:00                 1\n",
              "5   23634     100        ...         2013-06-30 00:00:00                 1\n",
              "6   23634     100        ...         2013-06-30 00:00:00                 1\n",
              "7   23634     100        ...         2013-06-30 00:00:00                 1\n",
              "8   23634     100        ...         2013-06-30 00:00:00                 1\n",
              "9   23634     100        ...         2013-06-30 00:00:00                 1\n",
              "\n",
              "[10 rows x 6 columns]"
            ]
          },
          "execution_count": 2,
          "metadata": {},
          "output_type": "execute_result"
        }
      ],
      "source": [
        "data = pd.read_csv('../input/unisys/ptsboardingsummary/20140711.CSV')\n",
        "data.shape\n",
        "data.head(10)"
      ]
    },
    {
      "cell_type": "code",
      "execution_count": null,
      "metadata": {
        "_cell_guid": "79c7e3d0-c299-4dcb-8224-4455121ee9b0",
        "_uuid": "d629ff2d2480ee46fbb7e2d37f6b5fab8052498a",
        "id": "r_WdTFW_SmwG",
        "outputId": "0e3bceb3-283d-475b-e535-bdc3c8e6e234"
      },
      "outputs": [
        {
          "data": {
            "text/plain": [
              "(4165, 10)"
            ]
          },
          "execution_count": 3,
          "metadata": {},
          "output_type": "execute_result"
        },
        {
          "data": {
            "text/html": [
              "<div>\n",
              "<style scoped>\n",
              "    .dataframe tbody tr th:only-of-type {\n",
              "        vertical-align: middle;\n",
              "    }\n",
              "\n",
              "    .dataframe tbody tr th {\n",
              "        vertical-align: top;\n",
              "    }\n",
              "\n",
              "    .dataframe thead th {\n",
              "        text-align: right;\n",
              "    }\n",
              "</style>\n",
              "<table border=\"1\" class=\"dataframe\">\n",
              "  <thead>\n",
              "    <tr style=\"text-align: right;\">\n",
              "      <th></th>\n",
              "      <th>accuracy</th>\n",
              "      <th>formatted_address</th>\n",
              "      <th>google_place_id</th>\n",
              "      <th>input_string</th>\n",
              "      <th>latitude</th>\n",
              "      <th>longitude</th>\n",
              "      <th>number_of_results</th>\n",
              "      <th>postcode</th>\n",
              "      <th>status</th>\n",
              "      <th>type</th>\n",
              "    </tr>\n",
              "  </thead>\n",
              "  <tbody>\n",
              "    <tr>\n",
              "      <th>0</th>\n",
              "      <td>ROOFTOP</td>\n",
              "      <td>181 Cross Rd, Westbourne Park SA 5041, Australia</td>\n",
              "      <td>ChIJKT7I9rbPsGoRVHMHkIy-Oyk</td>\n",
              "      <td>181 Cross Rd</td>\n",
              "      <td>-34.966656</td>\n",
              "      <td>138.592148</td>\n",
              "      <td>1</td>\n",
              "      <td>5041</td>\n",
              "      <td>OK</td>\n",
              "      <td>street_address</td>\n",
              "    </tr>\n",
              "    <tr>\n",
              "      <th>1</th>\n",
              "      <td>ROOFTOP</td>\n",
              "      <td>177 Cross Rd, Westbourne Park SA 5041, Australia</td>\n",
              "      <td>ChIJ-VFZ87bPsGoRyfVgC5qbPpE</td>\n",
              "      <td>177 Cross Rd</td>\n",
              "      <td>-34.966607</td>\n",
              "      <td>138.592301</td>\n",
              "      <td>1</td>\n",
              "      <td>5041</td>\n",
              "      <td>OK</td>\n",
              "      <td>street_address</td>\n",
              "    </tr>\n",
              "    <tr>\n",
              "      <th>2</th>\n",
              "      <td>ROOFTOP</td>\n",
              "      <td>175 Cross Rd, Westbourne Park SA 5041, Australia</td>\n",
              "      <td>ChIJIztlirbPsGoR38KRk76kPFI</td>\n",
              "      <td>175 Cross Rd</td>\n",
              "      <td>-34.966758</td>\n",
              "      <td>138.592715</td>\n",
              "      <td>1</td>\n",
              "      <td>5041</td>\n",
              "      <td>OK</td>\n",
              "      <td>street_address</td>\n",
              "    </tr>\n",
              "    <tr>\n",
              "      <th>3</th>\n",
              "      <td>GEOMETRIC_CENTER</td>\n",
              "      <td>Zone A Arndale Interchange - South side, Kilke...</td>\n",
              "      <td>ChIJn0C1hCPGsGoRIWvCdhF1RIg</td>\n",
              "      <td>Zone A Arndale Interchange</td>\n",
              "      <td>-34.875160</td>\n",
              "      <td>138.551628</td>\n",
              "      <td>1</td>\n",
              "      <td>5009</td>\n",
              "      <td>OK</td>\n",
              "      <td>bus_station,establishment,point_of_interest,tr...</td>\n",
              "    </tr>\n",
              "    <tr>\n",
              "      <th>4</th>\n",
              "      <td>ROOFTOP</td>\n",
              "      <td>178 Cross Rd, Malvern SA 5061, Australia</td>\n",
              "      <td>ChIJycNiylvOsGoRdhfq9GKnpq0</td>\n",
              "      <td>178 Cross Rd</td>\n",
              "      <td>-34.964960</td>\n",
              "      <td>138.611477</td>\n",
              "      <td>1</td>\n",
              "      <td>5061</td>\n",
              "      <td>OK</td>\n",
              "      <td>street_address</td>\n",
              "    </tr>\n",
              "  </tbody>\n",
              "</table>\n",
              "</div>"
            ],
            "text/plain": [
              "           accuracy                        ...                                                                       type\n",
              "0           ROOFTOP                        ...                                                             street_address\n",
              "1           ROOFTOP                        ...                                                             street_address\n",
              "2           ROOFTOP                        ...                                                             street_address\n",
              "3  GEOMETRIC_CENTER                        ...                          bus_station,establishment,point_of_interest,tr...\n",
              "4           ROOFTOP                        ...                                                             street_address\n",
              "\n",
              "[5 rows x 10 columns]"
            ]
          },
          "execution_count": 3,
          "metadata": {},
          "output_type": "execute_result"
        }
      ],
      "source": [
        "out_geo = pd.read_csv('../input/outgeo/output_geo.csv')\n",
        "out_geo.shape\n",
        "out_geo.head()"
      ]
    },
    {
      "cell_type": "markdown",
      "metadata": {
        "_uuid": "c1b22405ff64a2aa6ad61d9bce2501932ef8b8fb",
        "id": "2tXtEDeoSmwH"
      },
      "source": [
        "## External Features <a id=\"4\"></a>"
      ]
    },
    {
      "cell_type": "code",
      "execution_count": null,
      "metadata": {
        "_uuid": "5b02ce36a198f14e01eae940242e7b530c6b5fe5",
        "id": "122sBhIJSmwH"
      },
      "outputs": [],
      "source": [
        "#DistanceFromCentre: Distance measure from the city centre\n",
        "#For Calculating Distance between centre with other bus stops by using Longitude and Latitude\n",
        "#we have used the Haversine formula\n",
        "\n",
        "from math import sin, cos, sqrt, atan2, radians\n",
        "def calc_dist(lat1,lon1):\n",
        "    ## approximate radius of earth in km\n",
        "    R = 6373.0\n",
        "    dlon = radians(138.604801) - radians(lon1)\n",
        "    dlat = radians(-34.921247) - radians(lat1)\n",
        "    a = sin(dlat / 2)**2 + cos(radians(lat1)) * cos(radians(-34.921247)) * sin(dlon / 2)**2\n",
        "    c = 2 * atan2(sqrt(a), sqrt(1 - a))\n",
        "    return R * c"
      ]
    },
    {
      "cell_type": "code",
      "execution_count": null,
      "metadata": {
        "_uuid": "db3397725153d3027f2cebf6a82c9954e6869726",
        "id": "bWulOSzMSmwH"
      },
      "outputs": [],
      "source": [
        "out_geo['dist_from_centre'] = out_geo[['latitude','longitude']].apply(lambda x: calc_dist(*x), axis=1)"
      ]
    },
    {
      "cell_type": "code",
      "execution_count": null,
      "metadata": {
        "id": "25MuVXvRSmwI",
        "outputId": "2ca48e97-334d-428b-da27-147d0455d186"
      },
      "outputs": [
        {
          "data": {
            "text/html": [
              "<div>\n",
              "<style scoped>\n",
              "    .dataframe tbody tr th:only-of-type {\n",
              "        vertical-align: middle;\n",
              "    }\n",
              "\n",
              "    .dataframe tbody tr th {\n",
              "        vertical-align: top;\n",
              "    }\n",
              "\n",
              "    .dataframe thead th {\n",
              "        text-align: right;\n",
              "    }\n",
              "</style>\n",
              "<table border=\"1\" class=\"dataframe\">\n",
              "  <thead>\n",
              "    <tr style=\"text-align: right;\">\n",
              "      <th></th>\n",
              "      <th>accuracy</th>\n",
              "      <th>formatted_address</th>\n",
              "      <th>google_place_id</th>\n",
              "      <th>input_string</th>\n",
              "      <th>latitude</th>\n",
              "      <th>longitude</th>\n",
              "      <th>number_of_results</th>\n",
              "      <th>postcode</th>\n",
              "      <th>status</th>\n",
              "      <th>type</th>\n",
              "      <th>dist_from_centre</th>\n",
              "    </tr>\n",
              "  </thead>\n",
              "  <tbody>\n",
              "    <tr>\n",
              "      <th>0</th>\n",
              "      <td>ROOFTOP</td>\n",
              "      <td>181 Cross Rd, Westbourne Park SA 5041, Australia</td>\n",
              "      <td>ChIJKT7I9rbPsGoRVHMHkIy-Oyk</td>\n",
              "      <td>181 Cross Rd</td>\n",
              "      <td>-34.966656</td>\n",
              "      <td>138.592148</td>\n",
              "      <td>1</td>\n",
              "      <td>5041</td>\n",
              "      <td>OK</td>\n",
              "      <td>street_address</td>\n",
              "      <td>5.180961</td>\n",
              "    </tr>\n",
              "    <tr>\n",
              "      <th>1</th>\n",
              "      <td>ROOFTOP</td>\n",
              "      <td>177 Cross Rd, Westbourne Park SA 5041, Australia</td>\n",
              "      <td>ChIJ-VFZ87bPsGoRyfVgC5qbPpE</td>\n",
              "      <td>177 Cross Rd</td>\n",
              "      <td>-34.966607</td>\n",
              "      <td>138.592301</td>\n",
              "      <td>1</td>\n",
              "      <td>5041</td>\n",
              "      <td>OK</td>\n",
              "      <td>street_address</td>\n",
              "      <td>5.172525</td>\n",
              "    </tr>\n",
              "    <tr>\n",
              "      <th>2</th>\n",
              "      <td>ROOFTOP</td>\n",
              "      <td>175 Cross Rd, Westbourne Park SA 5041, Australia</td>\n",
              "      <td>ChIJIztlirbPsGoR38KRk76kPFI</td>\n",
              "      <td>175 Cross Rd</td>\n",
              "      <td>-34.966758</td>\n",
              "      <td>138.592715</td>\n",
              "      <td>1</td>\n",
              "      <td>5041</td>\n",
              "      <td>OK</td>\n",
              "      <td>street_address</td>\n",
              "      <td>5.180709</td>\n",
              "    </tr>\n",
              "    <tr>\n",
              "      <th>3</th>\n",
              "      <td>GEOMETRIC_CENTER</td>\n",
              "      <td>Zone A Arndale Interchange - South side, Kilke...</td>\n",
              "      <td>ChIJn0C1hCPGsGoRIWvCdhF1RIg</td>\n",
              "      <td>Zone A Arndale Interchange</td>\n",
              "      <td>-34.875160</td>\n",
              "      <td>138.551628</td>\n",
              "      <td>1</td>\n",
              "      <td>5009</td>\n",
              "      <td>OK</td>\n",
              "      <td>bus_station,establishment,point_of_interest,tr...</td>\n",
              "      <td>7.057549</td>\n",
              "    </tr>\n",
              "    <tr>\n",
              "      <th>4</th>\n",
              "      <td>ROOFTOP</td>\n",
              "      <td>178 Cross Rd, Malvern SA 5061, Australia</td>\n",
              "      <td>ChIJycNiylvOsGoRdhfq9GKnpq0</td>\n",
              "      <td>178 Cross Rd</td>\n",
              "      <td>-34.964960</td>\n",
              "      <td>138.611477</td>\n",
              "      <td>1</td>\n",
              "      <td>5061</td>\n",
              "      <td>OK</td>\n",
              "      <td>street_address</td>\n",
              "      <td>4.900099</td>\n",
              "    </tr>\n",
              "  </tbody>\n",
              "</table>\n",
              "</div>"
            ],
            "text/plain": [
              "           accuracy       ...        dist_from_centre\n",
              "0           ROOFTOP       ...                5.180961\n",
              "1           ROOFTOP       ...                5.172525\n",
              "2           ROOFTOP       ...                5.180709\n",
              "3  GEOMETRIC_CENTER       ...                7.057549\n",
              "4           ROOFTOP       ...                4.900099\n",
              "\n",
              "[5 rows x 11 columns]"
            ]
          },
          "execution_count": 6,
          "metadata": {},
          "output_type": "execute_result"
        }
      ],
      "source": [
        "out_geo.head()"
      ]
    },
    {
      "cell_type": "code",
      "execution_count": null,
      "metadata": {
        "_uuid": "aee1906bc36a4160fd0379468dde61c663b2167a",
        "id": "_JhOuIHLSmwI"
      },
      "outputs": [],
      "source": [
        "#exp_data = out_geo.head(10)\n",
        "##Fill the missing values with mode\n",
        "out_geo['type'].fillna('street_address',inplace=True)\n",
        "out_geo['type'] = out_geo['type'].apply(lambda x: str(x).split(',')[-1])"
      ]
    },
    {
      "cell_type": "code",
      "execution_count": null,
      "metadata": {
        "_uuid": "dbdfc9d7f2fe601d0054695bf73342052d4e6df2",
        "id": "80SP9FtaSmwJ",
        "outputId": "c8c2e4ce-65ad-4b2e-f98d-6a88375e48a0"
      },
      "outputs": [
        {
          "data": {
            "text/plain": [
              "array(['street_address', 'transit_station', 'premise', 'political',\n",
              "       'school', 'route', 'intersection', 'point_of_interest',\n",
              "       'subpremise', 'real_estate_agency', 'university', 'travel_agency',\n",
              "       'restaurant', 'supermarket', 'store', 'post_office'], dtype=object)"
            ]
          },
          "execution_count": 8,
          "metadata": {},
          "output_type": "execute_result"
        }
      ],
      "source": [
        "out_geo['type'].unique()"
      ]
    },
    {
      "cell_type": "code",
      "execution_count": null,
      "metadata": {
        "_uuid": "445c10263e9253d3e992adbc83a2c0bd48276a36",
        "id": "HK2yV4O4SmwJ",
        "outputId": "2d2f6925-c0ae-4a22-f6e2-b34463c2bb23"
      },
      "outputs": [
        {
          "data": {
            "text/plain": [
              "datetime.date(2013, 6, 30)"
            ]
          },
          "execution_count": 9,
          "metadata": {},
          "output_type": "execute_result"
        }
      ],
      "source": [
        "data['WeekBeginning'] = pd.to_datetime(data['WeekBeginning']).dt.date\n",
        "data['WeekBeginning'][1]"
      ]
    },
    {
      "cell_type": "markdown",
      "metadata": {
        "_uuid": "b5c265986c6fbab2c0dcc4eefac0659e12492e44",
        "id": "pPY9tv3lSmwK"
      },
      "source": [
        "## Data Aggregation <a id=\"5\"></a>"
      ]
    },
    {
      "cell_type": "code",
      "execution_count": null,
      "metadata": {
        "_uuid": "aa9f1a07092e5b693f011935b18fefcc5155006a",
        "id": "bwscwqWdSmwK",
        "outputId": "ab6f6499-437e-4add-d468-cf25040eb58d"
      },
      "outputs": [
        {
          "data": {
            "text/html": [
              "<div>\n",
              "<style scoped>\n",
              "    .dataframe tbody tr th:only-of-type {\n",
              "        vertical-align: middle;\n",
              "    }\n",
              "\n",
              "    .dataframe tbody tr th {\n",
              "        vertical-align: top;\n",
              "    }\n",
              "\n",
              "    .dataframe thead th {\n",
              "        text-align: right;\n",
              "    }\n",
              "</style>\n",
              "<table border=\"1\" class=\"dataframe\">\n",
              "  <thead>\n",
              "    <tr style=\"text-align: right;\">\n",
              "      <th></th>\n",
              "      <th>TripID</th>\n",
              "      <th>RouteID</th>\n",
              "      <th>StopID</th>\n",
              "      <th>StopName</th>\n",
              "      <th>WeekBeginning</th>\n",
              "      <th>NumberOfBoardings</th>\n",
              "      <th>accuracy</th>\n",
              "      <th>formatted_address</th>\n",
              "      <th>google_place_id</th>\n",
              "      <th>input_string</th>\n",
              "      <th>latitude</th>\n",
              "      <th>longitude</th>\n",
              "      <th>number_of_results</th>\n",
              "      <th>postcode</th>\n",
              "      <th>status</th>\n",
              "      <th>type</th>\n",
              "      <th>dist_from_centre</th>\n",
              "    </tr>\n",
              "  </thead>\n",
              "  <tbody>\n",
              "    <tr>\n",
              "      <th>0</th>\n",
              "      <td>23631</td>\n",
              "      <td>100</td>\n",
              "      <td>14156</td>\n",
              "      <td>181 Cross Rd</td>\n",
              "      <td>2013-06-30</td>\n",
              "      <td>1</td>\n",
              "      <td>ROOFTOP</td>\n",
              "      <td>181 Cross Rd, Westbourne Park SA 5041, Australia</td>\n",
              "      <td>ChIJKT7I9rbPsGoRVHMHkIy-Oyk</td>\n",
              "      <td>181 Cross Rd</td>\n",
              "      <td>-34.966656</td>\n",
              "      <td>138.592148</td>\n",
              "      <td>1</td>\n",
              "      <td>5041</td>\n",
              "      <td>OK</td>\n",
              "      <td>street_address</td>\n",
              "      <td>5.180961</td>\n",
              "    </tr>\n",
              "    <tr>\n",
              "      <th>1</th>\n",
              "      <td>23631</td>\n",
              "      <td>100</td>\n",
              "      <td>14144</td>\n",
              "      <td>177 Cross Rd</td>\n",
              "      <td>2013-06-30</td>\n",
              "      <td>1</td>\n",
              "      <td>ROOFTOP</td>\n",
              "      <td>177 Cross Rd, Westbourne Park SA 5041, Australia</td>\n",
              "      <td>ChIJ-VFZ87bPsGoRyfVgC5qbPpE</td>\n",
              "      <td>177 Cross Rd</td>\n",
              "      <td>-34.966607</td>\n",
              "      <td>138.592301</td>\n",
              "      <td>1</td>\n",
              "      <td>5041</td>\n",
              "      <td>OK</td>\n",
              "      <td>street_address</td>\n",
              "      <td>5.172525</td>\n",
              "    </tr>\n",
              "    <tr>\n",
              "      <th>2</th>\n",
              "      <td>23632</td>\n",
              "      <td>100</td>\n",
              "      <td>14132</td>\n",
              "      <td>175 Cross Rd</td>\n",
              "      <td>2013-06-30</td>\n",
              "      <td>1</td>\n",
              "      <td>ROOFTOP</td>\n",
              "      <td>175 Cross Rd, Westbourne Park SA 5041, Australia</td>\n",
              "      <td>ChIJIztlirbPsGoR38KRk76kPFI</td>\n",
              "      <td>175 Cross Rd</td>\n",
              "      <td>-34.966758</td>\n",
              "      <td>138.592715</td>\n",
              "      <td>1</td>\n",
              "      <td>5041</td>\n",
              "      <td>OK</td>\n",
              "      <td>street_address</td>\n",
              "      <td>5.180709</td>\n",
              "    </tr>\n",
              "    <tr>\n",
              "      <th>3</th>\n",
              "      <td>23633</td>\n",
              "      <td>100</td>\n",
              "      <td>12266</td>\n",
              "      <td>Zone A Arndale Interchange</td>\n",
              "      <td>2013-06-30</td>\n",
              "      <td>2</td>\n",
              "      <td>GEOMETRIC_CENTER</td>\n",
              "      <td>Zone A Arndale Interchange - South side, Kilke...</td>\n",
              "      <td>ChIJn0C1hCPGsGoRIWvCdhF1RIg</td>\n",
              "      <td>Zone A Arndale Interchange</td>\n",
              "      <td>-34.875160</td>\n",
              "      <td>138.551628</td>\n",
              "      <td>1</td>\n",
              "      <td>5009</td>\n",
              "      <td>OK</td>\n",
              "      <td>transit_station</td>\n",
              "      <td>7.057549</td>\n",
              "    </tr>\n",
              "    <tr>\n",
              "      <th>4</th>\n",
              "      <td>23633</td>\n",
              "      <td>100</td>\n",
              "      <td>14147</td>\n",
              "      <td>178 Cross Rd</td>\n",
              "      <td>2013-06-30</td>\n",
              "      <td>1</td>\n",
              "      <td>ROOFTOP</td>\n",
              "      <td>178 Cross Rd, Malvern SA 5061, Australia</td>\n",
              "      <td>ChIJycNiylvOsGoRdhfq9GKnpq0</td>\n",
              "      <td>178 Cross Rd</td>\n",
              "      <td>-34.964960</td>\n",
              "      <td>138.611477</td>\n",
              "      <td>1</td>\n",
              "      <td>5061</td>\n",
              "      <td>OK</td>\n",
              "      <td>street_address</td>\n",
              "      <td>4.900099</td>\n",
              "    </tr>\n",
              "  </tbody>\n",
              "</table>\n",
              "</div>"
            ],
            "text/plain": [
              "   TripID RouteID       ...                    type dist_from_centre\n",
              "0   23631     100       ...          street_address         5.180961\n",
              "1   23631     100       ...          street_address         5.172525\n",
              "2   23632     100       ...          street_address         5.180709\n",
              "3   23633     100       ...         transit_station         7.057549\n",
              "4   23633     100       ...          street_address         4.900099\n",
              "\n",
              "[5 rows x 17 columns]"
            ]
          },
          "execution_count": 10,
          "metadata": {},
          "output_type": "execute_result"
        },
        {
          "data": {
            "text/plain": [
              "(10857234, 17)"
            ]
          },
          "execution_count": 10,
          "metadata": {},
          "output_type": "execute_result"
        }
      ],
      "source": [
        "#Combine the Geolocation and main input file to get final Output File.\n",
        "data= pd.merge(data,out_geo,how='left',left_on = 'StopName',right_on = 'input_string')\n",
        "data.head(5)\n",
        "data.shape"
      ]
    },
    {
      "cell_type": "code",
      "execution_count": null,
      "metadata": {
        "id": "OoYV-7trSmwL"
      },
      "outputs": [],
      "source": [
        "#Columns to keep for further analysis\n",
        "col = ['TripID', 'RouteID', 'StopID', 'StopName', 'WeekBeginning','NumberOfBoardings',\n",
        "      'latitude', 'longitude','postcode','type','dist_from_centre']\n",
        "data = data[col]"
      ]
    },
    {
      "cell_type": "code",
      "execution_count": null,
      "metadata": {
        "_uuid": "823ef8ff37522e985d8dc15a978dcff68509dffe",
        "id": "qgSLrJtmSmwL"
      },
      "outputs": [],
      "source": [
        "##saving the final dataset\n",
        "#data.to_csv('Weekly_Boarding.csv',index=False)"
      ]
    },
    {
      "cell_type": "markdown",
      "metadata": {
        "_uuid": "be712db54ab743f05e35c039ce77e992da264a34",
        "id": "gwNOyrEBSmwM"
      },
      "source": [
        "Aggregate the Data According to Weeks and Stop names\n",
        "* **NumberOfBoardings_sum** Number of Boardings within particular week for each Bus stop\n",
        "* **NumberOfBoardings_count** Number of times data is recorded within week\n",
        "* **NumberOfBoardings_max** Maximum number of boarding done at single time within week"
      ]
    },
    {
      "cell_type": "code",
      "execution_count": null,
      "metadata": {
        "id": "8QwKylKESmwM"
      },
      "outputs": [],
      "source": [
        "grouped = data.groupby(['StopName','WeekBeginning','type'])\n",
        "#grouped.head()"
      ]
    },
    {
      "cell_type": "code",
      "execution_count": null,
      "metadata": {
        "_uuid": "927bc5b347e3875f5077c020833a68f7cd3e312f",
        "id": "WIx6Axw8SmwM"
      },
      "outputs": [],
      "source": [
        "# st_week_grp1 = pd.DataFrame(data.groupby(['StopName','WeekBeginning','type']).agg({'NumberOfBoardings': ['sum', 'count']})).reset_index()\n",
        "grouped = data.groupby(['StopName','WeekBeginning','type']).agg({'NumberOfBoardings': ['sum', 'count','max']})\n",
        "grouped.columns = [\"_\".join(x) for x in grouped.columns.ravel()]"
      ]
    },
    {
      "cell_type": "code",
      "execution_count": null,
      "metadata": {
        "id": "bNfkR_8lSmwN",
        "outputId": "856c11a3-65b3-49de-9142-d9bc6f1eb840"
      },
      "outputs": [
        {
          "data": {
            "text/html": [
              "<div>\n",
              "<style scoped>\n",
              "    .dataframe tbody tr th:only-of-type {\n",
              "        vertical-align: middle;\n",
              "    }\n",
              "\n",
              "    .dataframe tbody tr th {\n",
              "        vertical-align: top;\n",
              "    }\n",
              "\n",
              "    .dataframe thead th {\n",
              "        text-align: right;\n",
              "    }\n",
              "</style>\n",
              "<table border=\"1\" class=\"dataframe\">\n",
              "  <thead>\n",
              "    <tr style=\"text-align: right;\">\n",
              "      <th></th>\n",
              "      <th></th>\n",
              "      <th></th>\n",
              "      <th>NumberOfBoardings_sum</th>\n",
              "      <th>NumberOfBoardings_count</th>\n",
              "      <th>NumberOfBoardings_max</th>\n",
              "    </tr>\n",
              "    <tr>\n",
              "      <th>StopName</th>\n",
              "      <th>WeekBeginning</th>\n",
              "      <th>type</th>\n",
              "      <th></th>\n",
              "      <th></th>\n",
              "      <th></th>\n",
              "    </tr>\n",
              "  </thead>\n",
              "  <tbody>\n",
              "    <tr>\n",
              "      <th rowspan=\"10\" valign=\"top\">1 Anzac Hwy</th>\n",
              "      <th>2013-06-30</th>\n",
              "      <th>street_address</th>\n",
              "      <td>1003</td>\n",
              "      <td>378</td>\n",
              "      <td>51</td>\n",
              "    </tr>\n",
              "    <tr>\n",
              "      <th>2013-07-07</th>\n",
              "      <th>street_address</th>\n",
              "      <td>783</td>\n",
              "      <td>360</td>\n",
              "      <td>28</td>\n",
              "    </tr>\n",
              "    <tr>\n",
              "      <th>2013-07-14</th>\n",
              "      <th>street_address</th>\n",
              "      <td>843</td>\n",
              "      <td>343</td>\n",
              "      <td>45</td>\n",
              "    </tr>\n",
              "    <tr>\n",
              "      <th>2013-07-21</th>\n",
              "      <th>street_address</th>\n",
              "      <td>710</td>\n",
              "      <td>356</td>\n",
              "      <td>28</td>\n",
              "    </tr>\n",
              "    <tr>\n",
              "      <th>2013-07-28</th>\n",
              "      <th>street_address</th>\n",
              "      <td>898</td>\n",
              "      <td>379</td>\n",
              "      <td>41</td>\n",
              "    </tr>\n",
              "    <tr>\n",
              "      <th>2013-08-04</th>\n",
              "      <th>street_address</th>\n",
              "      <td>799</td>\n",
              "      <td>378</td>\n",
              "      <td>40</td>\n",
              "    </tr>\n",
              "    <tr>\n",
              "      <th>2013-08-11</th>\n",
              "      <th>street_address</th>\n",
              "      <td>1012</td>\n",
              "      <td>358</td>\n",
              "      <td>71</td>\n",
              "    </tr>\n",
              "    <tr>\n",
              "      <th>2013-08-18</th>\n",
              "      <th>street_address</th>\n",
              "      <td>793</td>\n",
              "      <td>333</td>\n",
              "      <td>41</td>\n",
              "    </tr>\n",
              "    <tr>\n",
              "      <th>2013-08-25</th>\n",
              "      <th>street_address</th>\n",
              "      <td>897</td>\n",
              "      <td>354</td>\n",
              "      <td>45</td>\n",
              "    </tr>\n",
              "    <tr>\n",
              "      <th>2013-09-01</th>\n",
              "      <th>street_address</th>\n",
              "      <td>1368</td>\n",
              "      <td>431</td>\n",
              "      <td>59</td>\n",
              "    </tr>\n",
              "  </tbody>\n",
              "</table>\n",
              "</div>"
            ],
            "text/plain": [
              "                                          NumberOfBoardings_sum          ...            NumberOfBoardings_max\n",
              "StopName    WeekBeginning type                                           ...                                 \n",
              "1 Anzac Hwy 2013-06-30    street_address                   1003          ...                               51\n",
              "            2013-07-07    street_address                    783          ...                               28\n",
              "            2013-07-14    street_address                    843          ...                               45\n",
              "            2013-07-21    street_address                    710          ...                               28\n",
              "            2013-07-28    street_address                    898          ...                               41\n",
              "            2013-08-04    street_address                    799          ...                               40\n",
              "            2013-08-11    street_address                   1012          ...                               71\n",
              "            2013-08-18    street_address                    793          ...                               41\n",
              "            2013-08-25    street_address                    897          ...                               45\n",
              "            2013-09-01    street_address                   1368          ...                               59\n",
              "\n",
              "[10 rows x 3 columns]"
            ]
          },
          "execution_count": 15,
          "metadata": {},
          "output_type": "execute_result"
        },
        {
          "data": {
            "text/plain": [
              "Index(['NumberOfBoardings_sum', 'NumberOfBoardings_count',\n",
              "       'NumberOfBoardings_max'],\n",
              "      dtype='object')"
            ]
          },
          "execution_count": 15,
          "metadata": {},
          "output_type": "execute_result"
        }
      ],
      "source": [
        "grouped.head(10)\n",
        "grouped.columns"
      ]
    },
    {
      "cell_type": "code",
      "execution_count": null,
      "metadata": {
        "_uuid": "16f803167e199c909311c92eb4215c9e1dbbe339",
        "id": "kmiiduSfSmwN",
        "outputId": "f6984379-5fbb-4d67-d282-a09fc70e2678"
      },
      "outputs": [
        {
          "data": {
            "text/plain": [
              "(207864, 6)"
            ]
          },
          "execution_count": 16,
          "metadata": {},
          "output_type": "execute_result"
        },
        {
          "data": {
            "text/html": [
              "<div>\n",
              "<style scoped>\n",
              "    .dataframe tbody tr th:only-of-type {\n",
              "        vertical-align: middle;\n",
              "    }\n",
              "\n",
              "    .dataframe tbody tr th {\n",
              "        vertical-align: top;\n",
              "    }\n",
              "\n",
              "    .dataframe thead th {\n",
              "        text-align: right;\n",
              "    }\n",
              "</style>\n",
              "<table border=\"1\" class=\"dataframe\">\n",
              "  <thead>\n",
              "    <tr style=\"text-align: right;\">\n",
              "      <th></th>\n",
              "      <th>StopName</th>\n",
              "      <th>WeekBeginning</th>\n",
              "      <th>type</th>\n",
              "      <th>NumberOfBoardings_sum</th>\n",
              "      <th>NumberOfBoardings_count</th>\n",
              "      <th>NumberOfBoardings_max</th>\n",
              "    </tr>\n",
              "  </thead>\n",
              "  <tbody>\n",
              "    <tr>\n",
              "      <th>0</th>\n",
              "      <td>1 Anzac Hwy</td>\n",
              "      <td>2013-06-30</td>\n",
              "      <td>street_address</td>\n",
              "      <td>1003</td>\n",
              "      <td>378</td>\n",
              "      <td>51</td>\n",
              "    </tr>\n",
              "    <tr>\n",
              "      <th>1</th>\n",
              "      <td>1 Anzac Hwy</td>\n",
              "      <td>2013-07-07</td>\n",
              "      <td>street_address</td>\n",
              "      <td>783</td>\n",
              "      <td>360</td>\n",
              "      <td>28</td>\n",
              "    </tr>\n",
              "    <tr>\n",
              "      <th>2</th>\n",
              "      <td>1 Anzac Hwy</td>\n",
              "      <td>2013-07-14</td>\n",
              "      <td>street_address</td>\n",
              "      <td>843</td>\n",
              "      <td>343</td>\n",
              "      <td>45</td>\n",
              "    </tr>\n",
              "    <tr>\n",
              "      <th>3</th>\n",
              "      <td>1 Anzac Hwy</td>\n",
              "      <td>2013-07-21</td>\n",
              "      <td>street_address</td>\n",
              "      <td>710</td>\n",
              "      <td>356</td>\n",
              "      <td>28</td>\n",
              "    </tr>\n",
              "    <tr>\n",
              "      <th>4</th>\n",
              "      <td>1 Anzac Hwy</td>\n",
              "      <td>2013-07-28</td>\n",
              "      <td>street_address</td>\n",
              "      <td>898</td>\n",
              "      <td>379</td>\n",
              "      <td>41</td>\n",
              "    </tr>\n",
              "  </tbody>\n",
              "</table>\n",
              "</div>"
            ],
            "text/plain": [
              "      StopName          ...          NumberOfBoardings_max\n",
              "0  1 Anzac Hwy          ...                             51\n",
              "1  1 Anzac Hwy          ...                             28\n",
              "2  1 Anzac Hwy          ...                             45\n",
              "3  1 Anzac Hwy          ...                             28\n",
              "4  1 Anzac Hwy          ...                             41\n",
              "\n",
              "[5 rows x 6 columns]"
            ]
          },
          "execution_count": 16,
          "metadata": {},
          "output_type": "execute_result"
        }
      ],
      "source": [
        "st_week_grp = pd.DataFrame(grouped).reset_index()\n",
        "st_week_grp.shape\n",
        "st_week_grp.head()"
      ]
    },
    {
      "cell_type": "code",
      "execution_count": null,
      "metadata": {
        "_uuid": "8cd02acd4de5039911e1949beb3d9673fa8710f7",
        "id": "dmmXXh-DSmwN",
        "outputId": "2fc7e3f2-6861-43d9-eafc-27aa49f62143"
      },
      "outputs": [
        {
          "data": {
            "text/html": [
              "<div>\n",
              "<style scoped>\n",
              "    .dataframe tbody tr th:only-of-type {\n",
              "        vertical-align: middle;\n",
              "    }\n",
              "\n",
              "    .dataframe tbody tr th {\n",
              "        vertical-align: top;\n",
              "    }\n",
              "\n",
              "    .dataframe thead th {\n",
              "        text-align: right;\n",
              "    }\n",
              "</style>\n",
              "<table border=\"1\" class=\"dataframe\">\n",
              "  <thead>\n",
              "    <tr style=\"text-align: right;\">\n",
              "      <th></th>\n",
              "      <th>StopName</th>\n",
              "      <th>WeekBeginning</th>\n",
              "    </tr>\n",
              "  </thead>\n",
              "  <tbody>\n",
              "    <tr>\n",
              "      <th>0</th>\n",
              "      <td>1 Anzac Hwy</td>\n",
              "      <td>54</td>\n",
              "    </tr>\n",
              "    <tr>\n",
              "      <th>1</th>\n",
              "      <td>1 Bartels Rd</td>\n",
              "      <td>54</td>\n",
              "    </tr>\n",
              "    <tr>\n",
              "      <th>2</th>\n",
              "      <td>1 Botanic Rd</td>\n",
              "      <td>54</td>\n",
              "    </tr>\n",
              "    <tr>\n",
              "      <th>3</th>\n",
              "      <td>1 Frome Rd</td>\n",
              "      <td>54</td>\n",
              "    </tr>\n",
              "    <tr>\n",
              "      <th>4</th>\n",
              "      <td>1 Fullarton Rd</td>\n",
              "      <td>54</td>\n",
              "    </tr>\n",
              "  </tbody>\n",
              "</table>\n",
              "</div>"
            ],
            "text/plain": [
              "         StopName  WeekBeginning\n",
              "0     1 Anzac Hwy             54\n",
              "1    1 Bartels Rd             54\n",
              "2    1 Botanic Rd             54\n",
              "3      1 Frome Rd             54\n",
              "4  1 Fullarton Rd             54"
            ]
          },
          "execution_count": 17,
          "metadata": {},
          "output_type": "execute_result"
        }
      ],
      "source": [
        "st_week_grp1 = pd.DataFrame(st_week_grp.groupby('StopName')[\"WeekBeginning\"].count()).reset_index()\n",
        "st_week_grp1.head()"
      ]
    },
    {
      "cell_type": "code",
      "execution_count": null,
      "metadata": {
        "_uuid": "298e17b59d8ebfd2f0e63b6b46233115cc357238",
        "id": "J2ZdCE7tSmwO",
        "outputId": "c30fba9f-e6ca-4ffe-d138-1fe79fe8560a"
      },
      "outputs": [
        {
          "data": {
            "text/plain": [
              "['1 Bartels Rd',\n",
              " '1 Botanic Rd',\n",
              " '1 Frome Rd',\n",
              " '1 Fullarton Rd',\n",
              " '1 George St',\n",
              " '1 Glen Osmond Rd',\n",
              " '1 Goodwood Rd',\n",
              " '1 Henley Beach Rd',\n",
              " '1 Kensington Rd']"
            ]
          },
          "execution_count": 18,
          "metadata": {},
          "output_type": "execute_result"
        }
      ],
      "source": [
        "#Gathering only the Stop Name which having all 54 weeks of Dat\n",
        "aa = list(st_week_grp1[st_week_grp1['WeekBeginning'] == 54]['StopName'])\n",
        "aa[1:10]"
      ]
    },
    {
      "cell_type": "code",
      "execution_count": null,
      "metadata": {
        "_uuid": "e17542384afdf7adddadbe0130649f3390280640",
        "id": "5ySzFLYjSmwP",
        "outputId": "057748bd-ff4d-4e82-bf9c-f48cb96f70a7"
      },
      "outputs": [
        {
          "data": {
            "text/html": [
              "<div>\n",
              "<style scoped>\n",
              "    .dataframe tbody tr th:only-of-type {\n",
              "        vertical-align: middle;\n",
              "    }\n",
              "\n",
              "    .dataframe tbody tr th {\n",
              "        vertical-align: top;\n",
              "    }\n",
              "\n",
              "    .dataframe thead th {\n",
              "        text-align: right;\n",
              "    }\n",
              "</style>\n",
              "<table border=\"1\" class=\"dataframe\">\n",
              "  <thead>\n",
              "    <tr style=\"text-align: right;\">\n",
              "      <th></th>\n",
              "      <th>StopName</th>\n",
              "      <th>WeekBeginning</th>\n",
              "      <th>type</th>\n",
              "      <th>NumberOfBoardings_sum</th>\n",
              "      <th>NumberOfBoardings_count</th>\n",
              "      <th>NumberOfBoardings_max</th>\n",
              "    </tr>\n",
              "  </thead>\n",
              "  <tbody>\n",
              "    <tr>\n",
              "      <th>0</th>\n",
              "      <td>1 Anzac Hwy</td>\n",
              "      <td>2013-06-30</td>\n",
              "      <td>street_address</td>\n",
              "      <td>1003</td>\n",
              "      <td>378</td>\n",
              "      <td>51</td>\n",
              "    </tr>\n",
              "    <tr>\n",
              "      <th>1</th>\n",
              "      <td>1 Anzac Hwy</td>\n",
              "      <td>2013-07-07</td>\n",
              "      <td>street_address</td>\n",
              "      <td>783</td>\n",
              "      <td>360</td>\n",
              "      <td>28</td>\n",
              "    </tr>\n",
              "    <tr>\n",
              "      <th>2</th>\n",
              "      <td>1 Anzac Hwy</td>\n",
              "      <td>2013-07-14</td>\n",
              "      <td>street_address</td>\n",
              "      <td>843</td>\n",
              "      <td>343</td>\n",
              "      <td>45</td>\n",
              "    </tr>\n",
              "    <tr>\n",
              "      <th>3</th>\n",
              "      <td>1 Anzac Hwy</td>\n",
              "      <td>2013-07-21</td>\n",
              "      <td>street_address</td>\n",
              "      <td>710</td>\n",
              "      <td>356</td>\n",
              "      <td>28</td>\n",
              "    </tr>\n",
              "    <tr>\n",
              "      <th>4</th>\n",
              "      <td>1 Anzac Hwy</td>\n",
              "      <td>2013-07-28</td>\n",
              "      <td>street_address</td>\n",
              "      <td>898</td>\n",
              "      <td>379</td>\n",
              "      <td>41</td>\n",
              "    </tr>\n",
              "  </tbody>\n",
              "</table>\n",
              "</div>"
            ],
            "text/plain": [
              "      StopName          ...          NumberOfBoardings_max\n",
              "0  1 Anzac Hwy          ...                             51\n",
              "1  1 Anzac Hwy          ...                             28\n",
              "2  1 Anzac Hwy          ...                             45\n",
              "3  1 Anzac Hwy          ...                             28\n",
              "4  1 Anzac Hwy          ...                             41\n",
              "\n",
              "[5 rows x 6 columns]"
            ]
          },
          "execution_count": 19,
          "metadata": {},
          "output_type": "execute_result"
        },
        {
          "data": {
            "text/plain": [
              "(175446, 6)"
            ]
          },
          "execution_count": 19,
          "metadata": {},
          "output_type": "execute_result"
        },
        {
          "data": {
            "text/plain": [
              "pandas.core.frame.DataFrame"
            ]
          },
          "execution_count": 19,
          "metadata": {},
          "output_type": "execute_result"
        }
      ],
      "source": [
        "bb = st_week_grp[st_week_grp['StopName'].isin(aa)]\n",
        "bb.head()\n",
        "bb.shape\n",
        "\n",
        "type(bb)"
      ]
    },
    {
      "cell_type": "code",
      "execution_count": null,
      "metadata": {
        "id": "hpMY4anSSmwP",
        "outputId": "dc9569d7-10f2-4cb1-e755-a2742d23d2e7"
      },
      "outputs": [
        {
          "data": {
            "text/plain": [
              "(10567931, 11)"
            ]
          },
          "execution_count": 20,
          "metadata": {},
          "output_type": "execute_result"
        },
        {
          "name": "stdout",
          "output_type": "stream",
          "text": [
            "data without stopage removing:  (10857234, 11)\n",
            "data, after removing stoppage not having the data of whole 54 weeks:  (10567931, 11)\n"
          ]
        }
      ],
      "source": [
        "#removing the stoppage which are not having the data of whole 54 weeks\n",
        "new_data = data[data['StopName'].isin(aa)]\n",
        "new_data.shape\n",
        "print(\"data without stopage removing: \", data.shape)\n",
        "print(\"data, after removing stoppage not having the data of whole 54 weeks: \", new_data.shape)"
      ]
    },
    {
      "cell_type": "code",
      "execution_count": null,
      "metadata": {
        "id": "Lp7zPw9OSmwP",
        "outputId": "edb6dd8c-cb96-4fca-a532-c43d7a72c915"
      },
      "outputs": [
        {
          "data": {
            "text/html": [
              "<div>\n",
              "<style scoped>\n",
              "    .dataframe tbody tr th:only-of-type {\n",
              "        vertical-align: middle;\n",
              "    }\n",
              "\n",
              "    .dataframe tbody tr th {\n",
              "        vertical-align: top;\n",
              "    }\n",
              "\n",
              "    .dataframe thead th {\n",
              "        text-align: right;\n",
              "    }\n",
              "</style>\n",
              "<table border=\"1\" class=\"dataframe\">\n",
              "  <thead>\n",
              "    <tr style=\"text-align: right;\">\n",
              "      <th></th>\n",
              "      <th>TripID</th>\n",
              "      <th>RouteID</th>\n",
              "      <th>StopID</th>\n",
              "      <th>StopName</th>\n",
              "      <th>WeekBeginning</th>\n",
              "      <th>NumberOfBoardings</th>\n",
              "      <th>latitude</th>\n",
              "      <th>longitude</th>\n",
              "      <th>postcode</th>\n",
              "      <th>type</th>\n",
              "      <th>dist_from_centre</th>\n",
              "    </tr>\n",
              "  </thead>\n",
              "  <tbody>\n",
              "    <tr>\n",
              "      <th>0</th>\n",
              "      <td>23631</td>\n",
              "      <td>100</td>\n",
              "      <td>14156</td>\n",
              "      <td>181 Cross Rd</td>\n",
              "      <td>2013-06-30</td>\n",
              "      <td>1</td>\n",
              "      <td>-34.966656</td>\n",
              "      <td>138.592148</td>\n",
              "      <td>5041</td>\n",
              "      <td>street_address</td>\n",
              "      <td>5.180961</td>\n",
              "    </tr>\n",
              "    <tr>\n",
              "      <th>1</th>\n",
              "      <td>23631</td>\n",
              "      <td>100</td>\n",
              "      <td>14144</td>\n",
              "      <td>177 Cross Rd</td>\n",
              "      <td>2013-06-30</td>\n",
              "      <td>1</td>\n",
              "      <td>-34.966607</td>\n",
              "      <td>138.592301</td>\n",
              "      <td>5041</td>\n",
              "      <td>street_address</td>\n",
              "      <td>5.172525</td>\n",
              "    </tr>\n",
              "  </tbody>\n",
              "</table>\n",
              "</div>"
            ],
            "text/plain": [
              "   TripID RouteID       ...                   type dist_from_centre\n",
              "0   23631     100       ...         street_address         5.180961\n",
              "1   23631     100       ...         street_address         5.172525\n",
              "\n",
              "[2 rows x 11 columns]"
            ]
          },
          "execution_count": 21,
          "metadata": {},
          "output_type": "execute_result"
        },
        {
          "data": {
            "text/plain": [
              "(10341468, 11)"
            ]
          },
          "execution_count": 21,
          "metadata": {},
          "output_type": "execute_result"
        }
      ],
      "source": [
        "new_data.head(2)\n",
        "filtered_data = new_data[new_data['dist_from_centre'] <= 100]\n",
        "filtered_data.shape"
      ]
    },
    {
      "cell_type": "code",
      "execution_count": null,
      "metadata": {
        "id": "XZg3gk5JSmwQ",
        "outputId": "dabf9c1f-d3aa-4f47-854c-cee2c770d214"
      },
      "outputs": [
        {
          "data": {
            "text/plain": [
              "(10341468, 11)"
            ]
          },
          "execution_count": 22,
          "metadata": {},
          "output_type": "execute_result"
        }
      ],
      "source": [
        "data = filtered_data.copy()\n",
        "data.shape"
      ]
    },
    {
      "cell_type": "code",
      "execution_count": null,
      "metadata": {
        "id": "0Li58K-DSmwQ"
      },
      "outputs": [],
      "source": [
        "#No of boarding for each stopage in all weeks\n",
        "#bb[\"StopName\"].groupby(NumberOfBoardings_sum)\n",
        "stopageName_with_boarding = bb.groupby(['StopName']).agg({'NumberOfBoardings_sum': ['sum']})\n",
        "\n",
        "#stopageName_with_boarding.columns = [\"_\".join(x) for x in stopageName_with_boarding.columns.ravel()]\n",
        "#stopageName_with_boarding.head()\n",
        "stopageName_with_boarding = pd.DataFrame(stopageName_with_boarding.reset_index())"
      ]
    },
    {
      "cell_type": "code",
      "execution_count": null,
      "metadata": {
        "id": "Ki67cOeaSmwQ",
        "outputId": "c85e72b6-8254-4c54-d288-ba542fb434a1"
      },
      "outputs": [
        {
          "data": {
            "text/html": [
              "<div>\n",
              "<style scoped>\n",
              "    .dataframe tbody tr th:only-of-type {\n",
              "        vertical-align: middle;\n",
              "    }\n",
              "\n",
              "    .dataframe tbody tr th {\n",
              "        vertical-align: top;\n",
              "    }\n",
              "\n",
              "    .dataframe thead th {\n",
              "        text-align: right;\n",
              "    }\n",
              "</style>\n",
              "<table border=\"1\" class=\"dataframe\">\n",
              "  <thead>\n",
              "    <tr style=\"text-align: right;\">\n",
              "      <th></th>\n",
              "      <th>StopName</th>\n",
              "      <th>Total_boarding_on_the_stopage</th>\n",
              "    </tr>\n",
              "  </thead>\n",
              "  <tbody>\n",
              "    <tr>\n",
              "      <th>0</th>\n",
              "      <td>1 Anzac Hwy</td>\n",
              "      <td>39429</td>\n",
              "    </tr>\n",
              "    <tr>\n",
              "      <th>1</th>\n",
              "      <td>1 Bartels Rd</td>\n",
              "      <td>8412</td>\n",
              "    </tr>\n",
              "    <tr>\n",
              "      <th>2</th>\n",
              "      <td>1 Botanic Rd</td>\n",
              "      <td>14868</td>\n",
              "    </tr>\n",
              "    <tr>\n",
              "      <th>3</th>\n",
              "      <td>1 Frome Rd</td>\n",
              "      <td>67458</td>\n",
              "    </tr>\n",
              "    <tr>\n",
              "      <th>4</th>\n",
              "      <td>1 Fullarton Rd</td>\n",
              "      <td>585</td>\n",
              "    </tr>\n",
              "  </tbody>\n",
              "</table>\n",
              "</div>"
            ],
            "text/plain": [
              "         StopName  Total_boarding_on_the_stopage\n",
              "0     1 Anzac Hwy                          39429\n",
              "1    1 Bartels Rd                           8412\n",
              "2    1 Botanic Rd                          14868\n",
              "3      1 Frome Rd                          67458\n",
              "4  1 Fullarton Rd                            585"
            ]
          },
          "execution_count": 24,
          "metadata": {},
          "output_type": "execute_result"
        }
      ],
      "source": [
        "#type(stopageName_with_boarding)\n",
        "stopageName_with_boarding.columns = [\"StopName\", \"Total_boarding_on_the_stopage\"]\n",
        "#stopageName_with_boarding.shape\n",
        "stopageName_with_boarding.head()"
      ]
    },
    {
      "cell_type": "code",
      "execution_count": null,
      "metadata": {
        "_uuid": "746dc86e2960643a0580fc887c87c651308d9501",
        "id": "86QYmYjlSmwR"
      },
      "outputs": [],
      "source": [
        "## save the aggregate data\n",
        "#bb.to_csv('st_week_grp.csv', index=False)"
      ]
    },
    {
      "cell_type": "markdown",
      "metadata": {
        "_uuid": "0764e38109f00eb23d78234472f02c01057b67c0",
        "id": "Eg7htrknSmwR"
      },
      "source": [
        "## Data Exploration <a id=\"6\"></a>"
      ]
    },
    {
      "cell_type": "code",
      "execution_count": null,
      "metadata": {
        "_uuid": "c82130b06a3e751ead4659191ddacbdaa1282c61",
        "id": "HlJsPtDqSmwR",
        "outputId": "24b3e686-2f9f-43ec-d517-67e2c7a99f7b"
      },
      "outputs": [
        {
          "data": {
            "text/plain": [
              "TripID               39211\n",
              "RouteID                616\n",
              "StopID                5838\n",
              "StopName              3127\n",
              "WeekBeginning           54\n",
              "NumberOfBoardings      359\n",
              "latitude              2393\n",
              "longitude             2379\n",
              "postcode               138\n",
              "type                     8\n",
              "dist_from_centre      2397\n",
              "dtype: int64"
            ]
          },
          "execution_count": 26,
          "metadata": {},
          "output_type": "execute_result"
        }
      ],
      "source": [
        "data.nunique()\n",
        "#data.isnull().sum()\n",
        "#data['WeekBeginning'].unique()"
      ]
    },
    {
      "cell_type": "markdown",
      "metadata": {
        "_uuid": "d24e4ece21397c7c7503699a857c6cd0a501d11d",
        "id": "3FByFm0eSmwR"
      },
      "source": [
        "## Data Visualization <a id=\"7\"></a>"
      ]
    },
    {
      "cell_type": "code",
      "execution_count": null,
      "metadata": {
        "_uuid": "b6c56016e12a33c7a1b37aa4e991b18f1b03da93",
        "id": "Ndni2TE_SmwS",
        "outputId": "7ae6475e-da07-4e09-e5f9-ebfa7ad3315e"
      },
      "outputs": [
        {
          "data": {
            "text/plain": [
              "Text(0.5,1,'No of Boardings')"
            ]
          },
          "execution_count": 27,
          "metadata": {},
          "output_type": "execute_result"
        },
        {
          "data": {
            "text/plain": [
              "<matplotlib.axes._subplots.AxesSubplot at 0x7ff880af0940>"
            ]
          },
          "execution_count": 27,
          "metadata": {},
          "output_type": "execute_result"
        },
        {
          "data": {
            "text/plain": [
              "Text(0.5,1,'WeekBeginning')"
            ]
          },
          "execution_count": 27,
          "metadata": {},
          "output_type": "execute_result"
        },
        {
          "data": {
            "text/plain": [
              "<matplotlib.axes._subplots.AxesSubplot at 0x7ff709a6bb38>"
            ]
          },
          "execution_count": 27,
          "metadata": {},
          "output_type": "execute_result"
        },
        {
          "data": {
            "text/plain": [
              "Text(0.5,1,'most Busiest Route')"
            ]
          },
          "execution_count": 27,
          "metadata": {},
          "output_type": "execute_result"
        },
        {
          "data": {
            "text/plain": [
              "<matplotlib.axes._subplots.AxesSubplot at 0x7ff709a48e10>"
            ]
          },
          "execution_count": 27,
          "metadata": {},
          "output_type": "execute_result"
        },
        {
          "data": {
            "text/plain": [
              "Text(0.5,1,'least Busiest Route')"
            ]
          },
          "execution_count": 27,
          "metadata": {},
          "output_type": "execute_result"
        },
        {
          "data": {
            "text/plain": [
              "<matplotlib.axes._subplots.AxesSubplot at 0x7ff736bbafd0>"
            ]
          },
          "execution_count": 27,
          "metadata": {},
          "output_type": "execute_result"
        },
        {
          "data": {
            "image/png": "[encoded data removed]",
            "text/plain": [
              "<Figure size 1080x1080 with 4 Axes>"
            ]
          },
          "metadata": {
            "needs_background": "light"
          },
          "output_type": "display_data"
        }
      ],
      "source": [
        "##can assign the each chart to one axes at a time\n",
        "fig,axrr=plt.subplots(2,2,figsize=(15,15))\n",
        "\n",
        "ax=axrr[0][0]\n",
        "ax.set_title(\"No of Boardings\")\n",
        "data['NumberOfBoardings'].value_counts().sort_index().head(20).plot.bar(ax=axrr[0][0])\n",
        "\n",
        "ax=axrr[0][1]\n",
        "ax.set_title(\"WeekBeginning\")\n",
        "data['WeekBeginning'].value_counts().plot.area(ax=axrr[0][1])\n",
        "\n",
        "ax=axrr[1][0]\n",
        "ax.set_title(\"most Busiest Route\")\n",
        "data['RouteID'].value_counts().head(10).plot.bar(ax=axrr[1][0])\n",
        "\n",
        "ax=axrr[1][1]\n",
        "ax.set_title(\"least Busiest Route\")\n",
        "data['RouteID'].value_counts().tail(10).plot.bar(ax=axrr[1][1])"
      ]
    }
  ],
  "metadata": {
    "kernelspec": {
      "display_name": "Python 3",
      "language": "python",
      "name": "python3"
    },
    "language_info": {
      "codemirror_mode": {
        "name": "ipython",
        "version": 3
      },
      "file_extension": ".py",
      "mimetype": "text/x-python",
      "name": "python",
      "nbconvert_exporter": "python",
      "pygments_lexer": "ipython3",
      "version": "3.6.6"
    },
    "colab": {
      "provenance": []
    }
  },
  "nbformat": 4,
  "nbformat_minor": 0
}